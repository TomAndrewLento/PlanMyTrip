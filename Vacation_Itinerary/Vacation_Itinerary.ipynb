{
 "cells": [
  {
   "cell_type": "markdown",
   "metadata": {},
   "source": [
    "## Deliverable 3. Create a Travel Itinerary Map."
   ]
  },
  {
   "cell_type": "code",
   "execution_count": 64,
   "metadata": {},
   "outputs": [],
   "source": [
    "# Dependencies and Setup\n",
    "import pandas as pd\n",
    "import requests\n",
    "import gmaps\n",
    "import gmaps.datasets\n",
    "\n",
    "# Import API key\n",
    "from config import g_key\n",
    "\n",
    "# Configure gmaps\n",
    "gmaps.configure(api_key=g_key)"
   ]
  },
  {
   "cell_type": "code",
   "execution_count": 65,
   "metadata": {},
   "outputs": [
    {
     "data": {
      "text/html": [
       "<div>\n",
       "<style scoped>\n",
       "    .dataframe tbody tr th:only-of-type {\n",
       "        vertical-align: middle;\n",
       "    }\n",
       "\n",
       "    .dataframe tbody tr th {\n",
       "        vertical-align: top;\n",
       "    }\n",
       "\n",
       "    .dataframe thead th {\n",
       "        text-align: right;\n",
       "    }\n",
       "</style>\n",
       "<table border=\"1\" class=\"dataframe\">\n",
       "  <thead>\n",
       "    <tr style=\"text-align: right;\">\n",
       "      <th></th>\n",
       "      <th>City_ID</th>\n",
       "      <th>City</th>\n",
       "      <th>Country</th>\n",
       "      <th>Max Temp</th>\n",
       "      <th>Current Description</th>\n",
       "      <th>Lat</th>\n",
       "      <th>Lng</th>\n",
       "      <th>Hotel Name</th>\n",
       "    </tr>\n",
       "  </thead>\n",
       "  <tbody>\n",
       "    <tr>\n",
       "      <td>0</td>\n",
       "      <td>9</td>\n",
       "      <td>Torbay</td>\n",
       "      <td>CA</td>\n",
       "      <td>47.17</td>\n",
       "      <td>overcast clouds</td>\n",
       "      <td>47.6666</td>\n",
       "      <td>-52.7314</td>\n",
       "      <td>Gallows Cove</td>\n",
       "    </tr>\n",
       "    <tr>\n",
       "      <td>1</td>\n",
       "      <td>11</td>\n",
       "      <td>Kapaa</td>\n",
       "      <td>US</td>\n",
       "      <td>75.52</td>\n",
       "      <td>scattered clouds</td>\n",
       "      <td>22.0752</td>\n",
       "      <td>-159.3190</td>\n",
       "      <td>Sheraton Kauai Coconut Beach Resort</td>\n",
       "    </tr>\n",
       "    <tr>\n",
       "      <td>2</td>\n",
       "      <td>20</td>\n",
       "      <td>Aklavik</td>\n",
       "      <td>CA</td>\n",
       "      <td>2.23</td>\n",
       "      <td>light snow</td>\n",
       "      <td>68.2191</td>\n",
       "      <td>-135.0107</td>\n",
       "      <td>Aklavik Inn</td>\n",
       "    </tr>\n",
       "    <tr>\n",
       "      <td>3</td>\n",
       "      <td>21</td>\n",
       "      <td>Yellowknife</td>\n",
       "      <td>CA</td>\n",
       "      <td>12.72</td>\n",
       "      <td>snow</td>\n",
       "      <td>62.4560</td>\n",
       "      <td>-114.3525</td>\n",
       "      <td>The Explorer Hotel</td>\n",
       "    </tr>\n",
       "    <tr>\n",
       "      <td>4</td>\n",
       "      <td>26</td>\n",
       "      <td>Jamestown</td>\n",
       "      <td>US</td>\n",
       "      <td>33.12</td>\n",
       "      <td>snow</td>\n",
       "      <td>42.0970</td>\n",
       "      <td>-79.2353</td>\n",
       "      <td>Hampton Inn &amp; Suites Jamestown</td>\n",
       "    </tr>\n",
       "    <tr>\n",
       "      <td>...</td>\n",
       "      <td>...</td>\n",
       "      <td>...</td>\n",
       "      <td>...</td>\n",
       "      <td>...</td>\n",
       "      <td>...</td>\n",
       "      <td>...</td>\n",
       "      <td>...</td>\n",
       "      <td>...</td>\n",
       "    </tr>\n",
       "    <tr>\n",
       "      <td>88</td>\n",
       "      <td>668</td>\n",
       "      <td>Moose Factory</td>\n",
       "      <td>CA</td>\n",
       "      <td>4.98</td>\n",
       "      <td>overcast clouds</td>\n",
       "      <td>51.2585</td>\n",
       "      <td>-80.6094</td>\n",
       "      <td>Moosonee Lilypad</td>\n",
       "    </tr>\n",
       "    <tr>\n",
       "      <td>89</td>\n",
       "      <td>673</td>\n",
       "      <td>Greenville</td>\n",
       "      <td>US</td>\n",
       "      <td>59.02</td>\n",
       "      <td>scattered clouds</td>\n",
       "      <td>35.6127</td>\n",
       "      <td>-77.3663</td>\n",
       "      <td>the 5th Street Inn</td>\n",
       "    </tr>\n",
       "    <tr>\n",
       "      <td>90</td>\n",
       "      <td>677</td>\n",
       "      <td>Kitimat</td>\n",
       "      <td>CA</td>\n",
       "      <td>34.18</td>\n",
       "      <td>light rain</td>\n",
       "      <td>54.0524</td>\n",
       "      <td>-128.6534</td>\n",
       "      <td>Kingfish Westcoast Adventures Ltd. Kitimat Est...</td>\n",
       "    </tr>\n",
       "    <tr>\n",
       "      <td>91</td>\n",
       "      <td>703</td>\n",
       "      <td>Smithers</td>\n",
       "      <td>CA</td>\n",
       "      <td>30.52</td>\n",
       "      <td>scattered clouds</td>\n",
       "      <td>54.7804</td>\n",
       "      <td>-127.1743</td>\n",
       "      <td>Prestige Hudson Bay Lodge, Premier Collection</td>\n",
       "    </tr>\n",
       "    <tr>\n",
       "      <td>92</td>\n",
       "      <td>712</td>\n",
       "      <td>Palmer</td>\n",
       "      <td>US</td>\n",
       "      <td>44.15</td>\n",
       "      <td>light rain</td>\n",
       "      <td>42.1584</td>\n",
       "      <td>-72.3287</td>\n",
       "      <td>Wedgewood Motel</td>\n",
       "    </tr>\n",
       "  </tbody>\n",
       "</table>\n",
       "<p>93 rows × 8 columns</p>\n",
       "</div>"
      ],
      "text/plain": [
       "    City_ID           City Country  Max Temp Current Description      Lat  \\\n",
       "0         9         Torbay      CA     47.17     overcast clouds  47.6666   \n",
       "1        11          Kapaa      US     75.52    scattered clouds  22.0752   \n",
       "2        20        Aklavik      CA      2.23          light snow  68.2191   \n",
       "3        21    Yellowknife      CA     12.72                snow  62.4560   \n",
       "4        26      Jamestown      US     33.12                snow  42.0970   \n",
       "..      ...            ...     ...       ...                 ...      ...   \n",
       "88      668  Moose Factory      CA      4.98     overcast clouds  51.2585   \n",
       "89      673     Greenville      US     59.02    scattered clouds  35.6127   \n",
       "90      677        Kitimat      CA     34.18          light rain  54.0524   \n",
       "91      703       Smithers      CA     30.52    scattered clouds  54.7804   \n",
       "92      712         Palmer      US     44.15          light rain  42.1584   \n",
       "\n",
       "         Lng                                         Hotel Name  \n",
       "0   -52.7314                                       Gallows Cove  \n",
       "1  -159.3190                Sheraton Kauai Coconut Beach Resort  \n",
       "2  -135.0107                                        Aklavik Inn  \n",
       "3  -114.3525                                 The Explorer Hotel  \n",
       "4   -79.2353                     Hampton Inn & Suites Jamestown  \n",
       "..       ...                                                ...  \n",
       "88  -80.6094                                   Moosonee Lilypad  \n",
       "89  -77.3663                                 the 5th Street Inn  \n",
       "90 -128.6534  Kingfish Westcoast Adventures Ltd. Kitimat Est...  \n",
       "91 -127.1743      Prestige Hudson Bay Lodge, Premier Collection  \n",
       "92  -72.3287                                    Wedgewood Motel  \n",
       "\n",
       "[93 rows x 8 columns]"
      ]
     },
     "execution_count": 65,
     "metadata": {},
     "output_type": "execute_result"
    }
   ],
   "source": [
    "# 1. Read the WeatherPy_vacation.csv into a DataFrame.\n",
    "vacation_df = pd.read_csv(\"Vacation_Search/WeatherPy_vacation.csv\")\n",
    "vacation_df.loc[(vacation_df[\"Country\"]==\"US\") | (vacation_df[\"Country\"]==\"CA\")]"
   ]
  },
  {
   "cell_type": "code",
   "execution_count": 66,
   "metadata": {},
   "outputs": [],
   "source": [
    "# 2. Using the template add the city name, the country code, the weather description and maximum temperature for the city.\n",
    "info_box_template = \"\"\"\n",
    "<dl>\n",
    "<dt>City</dt><dd>{City}</dd>\n",
    "<dt>Country</dt><dd>{Country}</dd>\n",
    "<dt>Current Description</dt><dd>{Current Description}</dd>\n",
    "<dt>Max Temp</dt><dd>{Max Temp} °F</dd>\n",
    "</dl>\n",
    "\"\"\"\n",
    "\n",
    "\n",
    "# 3a. Get the data from each row and add it to the formatting template and store the data in a list.\n",
    "vacation_info = [info_box_template.format(**row) for index, row in vacation_df.iterrows()]\n",
    "\n",
    "# 3b. Get the latitude and longitude from each row and store in a new DataFrame.\n",
    "locations = vacation_df[[\"Lat\", \"Lng\"]]"
   ]
  },
  {
   "cell_type": "code",
   "execution_count": 67,
   "metadata": {
    "scrolled": true
   },
   "outputs": [
    {
     "data": {
      "application/vnd.jupyter.widget-view+json": {
       "model_id": "ac6395691d6a4ccf872e3fe03576ae51",
       "version_major": 2,
       "version_minor": 0
      },
      "text/plain": [
       "Figure(layout=FigureLayout(height='420px'))"
      ]
     },
     "metadata": {},
     "output_type": "display_data"
    }
   ],
   "source": [
    "# 4a. Add a marker layer for each city to the map.\n",
    "fig = gmaps.figure(center=(30.0, 31.0), zoom_level=1.5)\n",
    "marker_layer = gmaps.marker_layer(locations, info_box_content=vacation_info)\n",
    "fig.add_layer(marker_layer)\n",
    "# 4b. Display the figure\n",
    "fig\n"
   ]
  },
  {
   "cell_type": "code",
   "execution_count": 68,
   "metadata": {},
   "outputs": [],
   "source": [
    "# From the map above pick 4 cities and create a vacation itinerary route to travel between the four cities. \n",
    "# 5. Create DataFrames for each city by filtering the 'vacation_df' using the loc method. \n",
    "# Hint: The starting and ending city should be the same city.\n",
    "\n",
    "vacation_start = vacation_df.loc[vacation_df[\"City\"]==\"King City\"]\n",
    "vacation_end   = vacation_df.loc[vacation_df[\"City\"]==\"King City\"]\n",
    "vacation_stop1 = vacation_df.loc[vacation_df[\"City\"]==\"San Joaquin\"]\n",
    "vacation_stop2 = vacation_df.loc[vacation_df[\"City\"]==\"Fortuna\"] \n",
    "vacation_stop3 = vacation_df.loc[vacation_df[\"City\"]==\"Half Moon Bay\"] "
   ]
  },
  {
   "cell_type": "code",
   "execution_count": 69,
   "metadata": {},
   "outputs": [],
   "source": [
    "# 6. Get the latitude-longitude pairs as tuples from each city DataFrame using the to_numpy function and list indexing.\n",
    "start = (vacation_start[[\"Lat\",\"Lng\"]].to_numpy()[0][0],vacation_start[[\"Lat\",\"Lng\"]].to_numpy()[0][1])\n",
    "end   = start\n",
    "stop1 = (vacation_stop1[[\"Lat\",\"Lng\"]].to_numpy()[0][0],vacation_stop1[[\"Lat\",\"Lng\"]].to_numpy()[0][1])\n",
    "stop2 = (vacation_stop2[[\"Lat\",\"Lng\"]].to_numpy()[0][0],vacation_stop2[[\"Lat\",\"Lng\"]].to_numpy()[0][1])\n",
    "stop3 = (vacation_stop3[[\"Lat\",\"Lng\"]].to_numpy()[0][0],vacation_stop3[[\"Lat\",\"Lng\"]].to_numpy()[0][1])"
   ]
  },
  {
   "cell_type": "code",
   "execution_count": 70,
   "metadata": {
    "scrolled": true
   },
   "outputs": [
    {
     "data": {
      "application/vnd.jupyter.widget-view+json": {
       "model_id": "8f6c84155bc344a390980bc89720f740",
       "version_major": 2,
       "version_minor": 0
      },
      "text/plain": [
       "Figure(layout=FigureLayout(height='420px'))"
      ]
     },
     "metadata": {},
     "output_type": "display_data"
    }
   ],
   "source": [
    "# 7. Create a direction layer map using the start and end latitude-longitude pairs,\n",
    "# and stop1, stop2, and stop3 as the waypoints. The travel_mode should be \"DRIVING\", \"BICYCLING\", or \"WALKING\".\n",
    "\n",
    "# fig = gmaps.figure()\n",
    "# route1 = gmaps.directions_layer(start, stop1)\n",
    "# route2 = gmaps.directions_layer(stop1, stop2)\n",
    "# route3 = gmaps.directions_layer(stop2, stop3)\n",
    "# route4 = gmaps.directions_layer(stop3, end)\n",
    "# fig.add_layer(route1)\n",
    "# fig.add_layer(route2)\n",
    "# fig.add_layer(route3)\n",
    "# fig.add_layer(route4)\n",
    "# fig\n",
    "\n",
    "#,stop2,stop3\n",
    "\n",
    "fig = gmaps.figure()\n",
    "route = gmaps.directions_layer(\n",
    "        start, end, waypoints=[stop1,stop2,stop3],\n",
    "        travel_mode='DRIVING')\n",
    "fig.add_layer(route)\n",
    "fig\n"
   ]
  },
  {
   "cell_type": "code",
   "execution_count": 55,
   "metadata": {},
   "outputs": [
    {
     "data": {
      "text/html": [
       "<div>\n",
       "<style scoped>\n",
       "    .dataframe tbody tr th:only-of-type {\n",
       "        vertical-align: middle;\n",
       "    }\n",
       "\n",
       "    .dataframe tbody tr th {\n",
       "        vertical-align: top;\n",
       "    }\n",
       "\n",
       "    .dataframe thead th {\n",
       "        text-align: right;\n",
       "    }\n",
       "</style>\n",
       "<table border=\"1\" class=\"dataframe\">\n",
       "  <thead>\n",
       "    <tr style=\"text-align: right;\">\n",
       "      <th></th>\n",
       "      <th>City_ID</th>\n",
       "      <th>City</th>\n",
       "      <th>Country</th>\n",
       "      <th>Max Temp</th>\n",
       "      <th>Current Description</th>\n",
       "      <th>Lat</th>\n",
       "      <th>Lng</th>\n",
       "      <th>Hotel Name</th>\n",
       "    </tr>\n",
       "  </thead>\n",
       "  <tbody>\n",
       "    <tr>\n",
       "      <td>0</td>\n",
       "      <td>567</td>\n",
       "      <td>King City</td>\n",
       "      <td>US</td>\n",
       "      <td>52.68</td>\n",
       "      <td>overcast clouds</td>\n",
       "      <td>36.2127</td>\n",
       "      <td>-121.1260</td>\n",
       "      <td>Days Inn by Wyndham King City</td>\n",
       "    </tr>\n",
       "    <tr>\n",
       "      <td>1</td>\n",
       "      <td>186</td>\n",
       "      <td>San Joaquin</td>\n",
       "      <td>US</td>\n",
       "      <td>48.33</td>\n",
       "      <td>mist</td>\n",
       "      <td>37.9333</td>\n",
       "      <td>-121.3011</td>\n",
       "      <td>University Plaza Waterfront Hotel</td>\n",
       "    </tr>\n",
       "    <tr>\n",
       "      <td>2</td>\n",
       "      <td>104</td>\n",
       "      <td>Fortuna</td>\n",
       "      <td>US</td>\n",
       "      <td>41.92</td>\n",
       "      <td>clear sky</td>\n",
       "      <td>40.5982</td>\n",
       "      <td>-124.1573</td>\n",
       "      <td>Super 8 by Wyndham Fortuna</td>\n",
       "    </tr>\n",
       "    <tr>\n",
       "      <td>3</td>\n",
       "      <td>469</td>\n",
       "      <td>Half Moon Bay</td>\n",
       "      <td>US</td>\n",
       "      <td>49.80</td>\n",
       "      <td>broken clouds</td>\n",
       "      <td>37.4636</td>\n",
       "      <td>-122.4286</td>\n",
       "      <td>The Ritz-Carlton, Half Moon Bay</td>\n",
       "    </tr>\n",
       "    <tr>\n",
       "      <td>4</td>\n",
       "      <td>567</td>\n",
       "      <td>King City</td>\n",
       "      <td>US</td>\n",
       "      <td>52.68</td>\n",
       "      <td>overcast clouds</td>\n",
       "      <td>36.2127</td>\n",
       "      <td>-121.1260</td>\n",
       "      <td>Days Inn by Wyndham King City</td>\n",
       "    </tr>\n",
       "  </tbody>\n",
       "</table>\n",
       "</div>"
      ],
      "text/plain": [
       "   City_ID           City Country  Max Temp Current Description      Lat  \\\n",
       "0      567      King City      US     52.68     overcast clouds  36.2127   \n",
       "1      186    San Joaquin      US     48.33                mist  37.9333   \n",
       "2      104        Fortuna      US     41.92           clear sky  40.5982   \n",
       "3      469  Half Moon Bay      US     49.80       broken clouds  37.4636   \n",
       "4      567      King City      US     52.68     overcast clouds  36.2127   \n",
       "\n",
       "        Lng                         Hotel Name  \n",
       "0 -121.1260      Days Inn by Wyndham King City  \n",
       "1 -121.3011  University Plaza Waterfront Hotel  \n",
       "2 -124.1573         Super 8 by Wyndham Fortuna  \n",
       "3 -122.4286    The Ritz-Carlton, Half Moon Bay  \n",
       "4 -121.1260      Days Inn by Wyndham King City  "
      ]
     },
     "execution_count": 55,
     "metadata": {},
     "output_type": "execute_result"
    }
   ],
   "source": [
    "# 8. To create a marker layer map between the four cities.\n",
    "#  Combine the four city DataFrames into one DataFrame using the concat() function.\n",
    "itinerary_df = pd.concat([vacation_start,vacation_stop1,vacation_stop2,vacation_stop3,vacation_end],ignore_index=True)\n",
    "itinerary_df"
   ]
  },
  {
   "cell_type": "code",
   "execution_count": 62,
   "metadata": {},
   "outputs": [],
   "source": [
    "# 9 Using the template add city name, the country code, the weather description and maximum temperature for the city. \n",
    "info_box_template = \"\"\"\n",
    "<dl>\n",
    "<dt>City</dt><dd>{City}</dd>\n",
    "<dt>Country</dt><dd>{Country}</dd>\n",
    "<dt>Current Description</dt><dd>{Current Description}</dd>\n",
    "<dt>Max Temp</dt><dd>{Max Temp} °F</dd>\n",
    "</dl>\n",
    "\"\"\"\n",
    "\n",
    "# 10a Get the data from each row and add it to the formatting template and store the data in a list.\n",
    "hotel_info = [info_box_template.format(**row) for index, row in itinerary_df.iterrows()]\n",
    "\n",
    "# 10b. Get the latitude and longitude from each row and store in a new DataFrame.\n",
    "locations = itinerary_df[[\"Lat\", \"Lng\"]]"
   ]
  },
  {
   "cell_type": "code",
   "execution_count": 63,
   "metadata": {},
   "outputs": [
    {
     "data": {
      "application/vnd.jupyter.widget-view+json": {
       "model_id": "6439c430279b4c00bdc9dfacb56bf3f6",
       "version_major": 2,
       "version_minor": 0
      },
      "text/plain": [
       "Figure(layout=FigureLayout(height='420px'))"
      ]
     },
     "metadata": {},
     "output_type": "display_data"
    }
   ],
   "source": [
    "# 11a. Add a marker layer for each city to the map.\n",
    "marker_layer = gmaps.marker_layer(locations, info_box_content=hotel_info)\n",
    "fig = gmaps.figure()\n",
    "fig.add_layer(marker_layer)\n",
    "fig\n",
    "\n",
    "# 11b. Display the figure\n",
    "fig"
   ]
  },
  {
   "cell_type": "code",
   "execution_count": null,
   "metadata": {},
   "outputs": [],
   "source": []
  },
  {
   "cell_type": "code",
   "execution_count": null,
   "metadata": {},
   "outputs": [],
   "source": []
  }
 ],
 "metadata": {
  "kernelspec": {
   "display_name": "Python 3",
   "language": "python",
   "name": "python3"
  },
  "language_info": {
   "codemirror_mode": {
    "name": "ipython",
    "version": 3
   },
   "file_extension": ".py",
   "mimetype": "text/x-python",
   "name": "python",
   "nbconvert_exporter": "python",
   "pygments_lexer": "ipython3",
   "version": "3.7.4"
  },
  "latex_envs": {
   "LaTeX_envs_menu_present": true,
   "autoclose": false,
   "autocomplete": true,
   "bibliofile": "biblio.bib",
   "cite_by": "apalike",
   "current_citInitial": 1,
   "eqLabelWithNumbers": true,
   "eqNumInitial": 1,
   "hotkeys": {
    "equation": "Ctrl-E",
    "itemize": "Ctrl-I"
   },
   "labels_anchors": false,
   "latex_user_defs": false,
   "report_style_numbering": false,
   "user_envs_cfg": false
  }
 },
 "nbformat": 4,
 "nbformat_minor": 4
}
